{
 "cells": [
  {
   "cell_type": "code",
   "execution_count": 11,
   "metadata": {
    "collapsed": false
   },
   "outputs": [],
   "source": [
    "#@hello world\n",
    "import pandas as pd\n",
    "import numpy as np\n",
    "\n",
    "import json\n",
    "from operator import itemgetter\n",
    "\n",
    "SEPARATOR = ', '\n",
    "cur_dir = \"D:\\\\Projects\\\\_python\\\\collector-js\\\\\"\n",
    "\n",
    "\n",
    "\n",
    "def load_data(fname):\n",
    "    s = None\n",
    "    with open(cur_dir + fname) as file:\n",
    "        s = file.readline()\n",
    "    s = s.strip(SEPARATOR)\n",
    "    json_string = \"[%s]\" % s\n",
    "    data = json.loads(json_string)\n",
    "    return data\n",
    "\n",
    "\n",
    "def sort_data_by(key=\"time\"):\n",
    "    result = sorted(data, key=itemgetter(key))\n",
    "    return data\n",
    "\n",
    "\n",
    "def prepare_data(data):\n",
    "    for d in data:\n",
    "        for p in d['packages'].iteritems():\n",
    "            p['upairsCount'] = len(p['uniquePairs'])\n",
    "\n",
    "    sort_data_by()\n",
    "    return data\n",
    "\n",
    "# Structure: \n",
    "# data[index]['property:interval|time|flows|packages']['packageName:%filter_type%|packages']['packageProperty:bytesCount|packetsCount']...\n",
    "# data[1]['packages']['package']['uniquePairs']"
   ]
  },
  {
   "cell_type": "code",
   "execution_count": 59,
   "metadata": {
    "collapsed": true
   },
   "outputs": [],
   "source": [
    "raw_data2 = load_data(\"logs_all.txt\")"
   ]
  },
  {
   "cell_type": "code",
   "execution_count": 60,
   "metadata": {
    "collapsed": false
   },
   "outputs": [
    {
     "name": "stdout",
     "output_type": "stream",
     "text": [
      "d\n",
      "p\n",
      "d\n",
      "d\n",
      "p\n"
     ]
    }
   ],
   "source": [
    "#время\tam pack\tam bytes\tam pairs\tSYN\tACK\tSYN-ACK\tPUSH\tPUSH-ACK\tTCP\tICMP\tHTTP\\\n",
    "#1st level\n",
    "data = pd.DataFrame(index=np.arange(0, len(raw_data2)), columns=(\"Time\", \"Pack\", \"Bytes\", \"Pairs\", \"TCP\", \"ICMP\", \"Telnet\", \"UDP\"))\n",
    "i = 0\n",
    "for d in raw_data2[:3]:\n",
    "    data.loc[i].Time = d['time']\n",
    "    print \"d\"\n",
    "    for _, p in d['packages'].iteritems():\n",
    "        print \"p\"\n",
    "        data.loc[i].Pairs = len(p['uniquePairs'])\n",
    "        data.loc[i].Pack = p['packetsCount']\n",
    "        data.loc[i].Bytes = p['bytesCount']\n",
    "        for protocol_k, protocol_v in p['protocols'].iteritems():\n",
    "            data.loc[i][protocol_k] = protocol_v\n",
    "    i += 1"
   ]
  },
  {
   "cell_type": "code",
   "execution_count": 53,
   "metadata": {
    "collapsed": false
   },
   "outputs": [
    {
     "data": {
      "text/html": [
       "<div style=\"max-height:1000px;max-width:1500px;overflow:auto;\">\n",
       "<table border=\"1\" class=\"dataframe\">\n",
       "  <thead>\n",
       "    <tr style=\"text-align: right;\">\n",
       "      <th></th>\n",
       "      <th>Time</th>\n",
       "      <th>Pack</th>\n",
       "      <th>Bytes</th>\n",
       "      <th>Pairs</th>\n",
       "      <th>TCP</th>\n",
       "      <th>ICMP</th>\n",
       "      <th>Telnet</th>\n",
       "      <th>UDP</th>\n",
       "    </tr>\n",
       "  </thead>\n",
       "  <tbody>\n",
       "    <tr>\n",
       "      <th>0</th>\n",
       "      <td> 1457693200644</td>\n",
       "      <td> 1999</td>\n",
       "      <td> 1520061</td>\n",
       "      <td> 180</td>\n",
       "      <td>   0</td>\n",
       "      <td>   0</td>\n",
       "      <td>   0</td>\n",
       "      <td>   0</td>\n",
       "    </tr>\n",
       "    <tr>\n",
       "      <th>1</th>\n",
       "      <td> 1457693201647</td>\n",
       "      <td>  NaN</td>\n",
       "      <td>     NaN</td>\n",
       "      <td> NaN</td>\n",
       "      <td> NaN</td>\n",
       "      <td> NaN</td>\n",
       "      <td> NaN</td>\n",
       "      <td> NaN</td>\n",
       "    </tr>\n",
       "    <tr>\n",
       "      <th>2</th>\n",
       "      <td> 1457693202649</td>\n",
       "      <td>  142</td>\n",
       "      <td>   20547</td>\n",
       "      <td>  30</td>\n",
       "      <td>   0</td>\n",
       "      <td>   0</td>\n",
       "      <td>   0</td>\n",
       "      <td>   0</td>\n",
       "    </tr>\n",
       "  </tbody>\n",
       "</table>\n",
       "</div>"
      ],
      "text/plain": [
       "            Time  Pack    Bytes Pairs  TCP ICMP Telnet  UDP\n",
       "0  1457693200644  1999  1520061   180    0    0      0    0\n",
       "1  1457693201647   NaN      NaN   NaN  NaN  NaN    NaN  NaN\n",
       "2  1457693202649   142    20547    30    0    0      0    0"
      ]
     },
     "execution_count": 53,
     "metadata": {},
     "output_type": "execute_result"
    }
   ],
   "source": [
    "data[:3]"
   ]
  },
  {
   "cell_type": "code",
   "execution_count": 51,
   "metadata": {
    "collapsed": false
   },
   "outputs": [
    {
     "data": {
      "text/html": [
       "<div style=\"max-height:1000px;max-width:1500px;overflow:auto;\">\n",
       "<table border=\"1\" class=\"dataframe\">\n",
       "  <thead>\n",
       "    <tr style=\"text-align: right;\">\n",
       "      <th></th>\n",
       "      <th>Time</th>\n",
       "      <th>Pack</th>\n",
       "      <th>Bytes</th>\n",
       "      <th>Pairs</th>\n",
       "      <th>TCP</th>\n",
       "      <th>ICMP</th>\n",
       "      <th>Telnet</th>\n",
       "      <th>UDP</th>\n",
       "    </tr>\n",
       "  </thead>\n",
       "  <tbody>\n",
       "    <tr>\n",
       "      <th>0</th>\n",
       "      <td> 1457693200644</td>\n",
       "      <td> 1999</td>\n",
       "      <td> 1520061</td>\n",
       "      <td> 180</td>\n",
       "      <td>   0</td>\n",
       "      <td>   0</td>\n",
       "      <td>   0</td>\n",
       "      <td>   0</td>\n",
       "    </tr>\n",
       "    <tr>\n",
       "      <th>1</th>\n",
       "      <td> 1457693202649</td>\n",
       "      <td>  142</td>\n",
       "      <td>   20547</td>\n",
       "      <td>  30</td>\n",
       "      <td>   0</td>\n",
       "      <td>   0</td>\n",
       "      <td>   0</td>\n",
       "      <td>   0</td>\n",
       "    </tr>\n",
       "    <tr>\n",
       "      <th>2</th>\n",
       "      <td>           NaN</td>\n",
       "      <td>  NaN</td>\n",
       "      <td>     NaN</td>\n",
       "      <td> NaN</td>\n",
       "      <td> NaN</td>\n",
       "      <td> NaN</td>\n",
       "      <td> NaN</td>\n",
       "      <td> NaN</td>\n",
       "    </tr>\n",
       "  </tbody>\n",
       "</table>\n",
       "</div>"
      ],
      "text/plain": [
       "            Time  Pack    Bytes Pairs  TCP ICMP Telnet  UDP\n",
       "0  1457693200644  1999  1520061   180    0    0      0    0\n",
       "1  1457693202649   142    20547    30    0    0      0    0\n",
       "2            NaN   NaN      NaN   NaN  NaN  NaN    NaN  NaN"
      ]
     },
     "execution_count": 51,
     "metadata": {},
     "output_type": "execute_result"
    }
   ],
   "source": [
    "data[:3]"
   ]
  },
  {
   "cell_type": "code",
   "execution_count": 38,
   "metadata": {
    "collapsed": true
   },
   "outputs": [],
   "source": [
    "def resolve_dloc_path(dloc, path):\n",
    "    hosts = path.split(\"_\")\n",
    "    src = hosts[0].split(\":\")\n",
    "    dloc.SrcIP = src[0]\n",
    "    \n",
    "    if len(src) > 1:\n",
    "        dloc.SrcPort = src[1]\n",
    "    \n",
    "    if len(hosts) > 1:\n",
    "        dst = hosts[1].split(\":\")\n",
    "        dloc.DstIP = dst[0]\n",
    "        if len(dst) > 1:\n",
    "            dloc.DstPort = dst[1]"
   ]
  },
  {
   "cell_type": "code",
   "execution_count": 64,
   "metadata": {
    "collapsed": false
   },
   "outputs": [],
   "source": [
    "# время\tHost IP\thost port\tDST IP\tDST Port\tam pack\tam bytes\tam pairs\tSYN\tACK\tSYN-ACK\tPUSH\tPUSH-ACK\tTCP\tICMP\tHTTP\n",
    "#2nd level\n",
    "data = pd.DataFrame(index=np.arange(0, len(raw_data)), columns=(\"Time\", \"SrcIP\", \"SrcPort\", \"DstIP\", \"DstPort\", \"Pack\", \"Bytes\", \"Pairs\", \"TCP\", \"ICMP\", \"Telnet\", \"UDP\"))\n",
    "i = 0\n",
    "\n",
    "for d in raw_data[:3]:\n",
    "    for path, p in d['packages'].iteritems():\n",
    "        data.loc[i].Time = d['time']\n",
    "        resolve_dloc_path(data.loc[i], path)\n",
    "        data.loc[i].Pairs = len(p['uniquePairs'])\n",
    "        data.loc[i].Pack = p['packetsCount']\n",
    "        data.loc[i].Bytes = p['bytesCount']\n",
    "        for protocol_k, protocol_v in p['protocols'].iteritems():\n",
    "            data.loc[i][protocol_k] = protocol_v\n",
    "        i += 1"
   ]
  },
  {
   "cell_type": "code",
   "execution_count": 65,
   "metadata": {
    "collapsed": false
   },
   "outputs": [
    {
     "data": {
      "text/html": [
       "<div style=\"max-height:1000px;max-width:1500px;overflow:auto;\">\n",
       "<table border=\"1\" class=\"dataframe\">\n",
       "  <thead>\n",
       "    <tr style=\"text-align: right;\">\n",
       "      <th></th>\n",
       "      <th>Time</th>\n",
       "      <th>SrcIP</th>\n",
       "      <th>SrcPort</th>\n",
       "      <th>DstIP</th>\n",
       "      <th>DstPort</th>\n",
       "      <th>Pack</th>\n",
       "      <th>Bytes</th>\n",
       "      <th>Pairs</th>\n",
       "      <th>TCP</th>\n",
       "      <th>ICMP</th>\n",
       "      <th>Telnet</th>\n",
       "      <th>UDP</th>\n",
       "    </tr>\n",
       "  </thead>\n",
       "  <tbody>\n",
       "    <tr>\n",
       "      <th>0</th>\n",
       "      <td> 1457693200682</td>\n",
       "      <td>  94.180.171.56</td>\n",
       "      <td> 58726</td>\n",
       "      <td> NaN</td>\n",
       "      <td> NaN</td>\n",
       "      <td>   1</td>\n",
       "      <td>     345</td>\n",
       "      <td> 1</td>\n",
       "      <td> 0</td>\n",
       "      <td> 0</td>\n",
       "      <td> 0</td>\n",
       "      <td> 1</td>\n",
       "    </tr>\n",
       "    <tr>\n",
       "      <th>1</th>\n",
       "      <td> 1457693200682</td>\n",
       "      <td>   82.136.121.9</td>\n",
       "      <td> 38262</td>\n",
       "      <td> NaN</td>\n",
       "      <td> NaN</td>\n",
       "      <td>   1</td>\n",
       "      <td>     328</td>\n",
       "      <td> 1</td>\n",
       "      <td> 0</td>\n",
       "      <td> 0</td>\n",
       "      <td> 0</td>\n",
       "      <td> 1</td>\n",
       "    </tr>\n",
       "    <tr>\n",
       "      <th>2</th>\n",
       "      <td> 1457693200682</td>\n",
       "      <td>  178.215.96.20</td>\n",
       "      <td>  7185</td>\n",
       "      <td> NaN</td>\n",
       "      <td> NaN</td>\n",
       "      <td>   1</td>\n",
       "      <td>     345</td>\n",
       "      <td> 1</td>\n",
       "      <td> 0</td>\n",
       "      <td> 0</td>\n",
       "      <td> 0</td>\n",
       "      <td> 1</td>\n",
       "    </tr>\n",
       "    <tr>\n",
       "      <th>3</th>\n",
       "      <td> 1457693200682</td>\n",
       "      <td>  74.125.163.94</td>\n",
       "      <td>    80</td>\n",
       "      <td> NaN</td>\n",
       "      <td> NaN</td>\n",
       "      <td> 948</td>\n",
       "      <td> 1402604</td>\n",
       "      <td> 1</td>\n",
       "      <td> 1</td>\n",
       "      <td> 0</td>\n",
       "      <td> 0</td>\n",
       "      <td> 0</td>\n",
       "    </tr>\n",
       "    <tr>\n",
       "      <th>4</th>\n",
       "      <td> 1457693200682</td>\n",
       "      <td> 195.154.133.84</td>\n",
       "      <td> 26761</td>\n",
       "      <td> NaN</td>\n",
       "      <td> NaN</td>\n",
       "      <td>   1</td>\n",
       "      <td>     343</td>\n",
       "      <td> 1</td>\n",
       "      <td> 0</td>\n",
       "      <td> 0</td>\n",
       "      <td> 0</td>\n",
       "      <td> 1</td>\n",
       "    </tr>\n",
       "    <tr>\n",
       "      <th>5</th>\n",
       "      <td> 1457693200682</td>\n",
       "      <td>   192.168.3.30</td>\n",
       "      <td> 61143</td>\n",
       "      <td> NaN</td>\n",
       "      <td> NaN</td>\n",
       "      <td>   6</td>\n",
       "      <td>     406</td>\n",
       "      <td> 1</td>\n",
       "      <td> 1</td>\n",
       "      <td> 0</td>\n",
       "      <td> 0</td>\n",
       "      <td> 0</td>\n",
       "    </tr>\n",
       "    <tr>\n",
       "      <th>6</th>\n",
       "      <td> 1457693200682</td>\n",
       "      <td>   192.168.4.31</td>\n",
       "      <td> 65356</td>\n",
       "      <td> NaN</td>\n",
       "      <td> NaN</td>\n",
       "      <td>   1</td>\n",
       "      <td>      63</td>\n",
       "      <td> 1</td>\n",
       "      <td> 0</td>\n",
       "      <td> 0</td>\n",
       "      <td> 0</td>\n",
       "      <td> 1</td>\n",
       "    </tr>\n",
       "    <tr>\n",
       "      <th>7</th>\n",
       "      <td> 1457693200682</td>\n",
       "      <td>  76.167.243.24</td>\n",
       "      <td> 32033</td>\n",
       "      <td> NaN</td>\n",
       "      <td> NaN</td>\n",
       "      <td>   1</td>\n",
       "      <td>     345</td>\n",
       "      <td> 1</td>\n",
       "      <td> 0</td>\n",
       "      <td> 0</td>\n",
       "      <td> 0</td>\n",
       "      <td> 1</td>\n",
       "    </tr>\n",
       "    <tr>\n",
       "      <th>8</th>\n",
       "      <td> 1457693200682</td>\n",
       "      <td>  62.205.90.223</td>\n",
       "      <td> 63810</td>\n",
       "      <td> NaN</td>\n",
       "      <td> NaN</td>\n",
       "      <td>   1</td>\n",
       "      <td>     345</td>\n",
       "      <td> 1</td>\n",
       "      <td> 0</td>\n",
       "      <td> 0</td>\n",
       "      <td> 0</td>\n",
       "      <td> 1</td>\n",
       "    </tr>\n",
       "    <tr>\n",
       "      <th>9</th>\n",
       "      <td> 1457693200682</td>\n",
       "      <td>   192.168.5.92</td>\n",
       "      <td> 54909</td>\n",
       "      <td> NaN</td>\n",
       "      <td> NaN</td>\n",
       "      <td>  18</td>\n",
       "      <td>    2772</td>\n",
       "      <td> 1</td>\n",
       "      <td> 1</td>\n",
       "      <td> 0</td>\n",
       "      <td> 0</td>\n",
       "      <td> 0</td>\n",
       "    </tr>\n",
       "  </tbody>\n",
       "</table>\n",
       "</div>"
      ],
      "text/plain": [
       "            Time           SrcIP SrcPort DstIP DstPort Pack    Bytes Pairs  \\\n",
       "0  1457693200682   94.180.171.56   58726   NaN     NaN    1      345     1   \n",
       "1  1457693200682    82.136.121.9   38262   NaN     NaN    1      328     1   \n",
       "2  1457693200682   178.215.96.20    7185   NaN     NaN    1      345     1   \n",
       "3  1457693200682   74.125.163.94      80   NaN     NaN  948  1402604     1   \n",
       "4  1457693200682  195.154.133.84   26761   NaN     NaN    1      343     1   \n",
       "5  1457693200682    192.168.3.30   61143   NaN     NaN    6      406     1   \n",
       "6  1457693200682    192.168.4.31   65356   NaN     NaN    1       63     1   \n",
       "7  1457693200682   76.167.243.24   32033   NaN     NaN    1      345     1   \n",
       "8  1457693200682   62.205.90.223   63810   NaN     NaN    1      345     1   \n",
       "9  1457693200682    192.168.5.92   54909   NaN     NaN   18     2772     1   \n",
       "\n",
       "  TCP ICMP Telnet UDP  \n",
       "0   0    0      0   1  \n",
       "1   0    0      0   1  \n",
       "2   0    0      0   1  \n",
       "3   1    0      0   0  \n",
       "4   0    0      0   1  \n",
       "5   1    0      0   0  \n",
       "6   0    0      0   1  \n",
       "7   0    0      0   1  \n",
       "8   0    0      0   1  \n",
       "9   1    0      0   0  "
      ]
     },
     "execution_count": 65,
     "metadata": {},
     "output_type": "execute_result"
    }
   ],
   "source": [
    "data[:10]"
   ]
  },
  {
   "cell_type": "code",
   "execution_count": 66,
   "metadata": {
    "collapsed": false
   },
   "outputs": [
    {
     "data": {
      "text/plain": [
       "{nan, 1457693200682L, 1457693202683L}"
      ]
     },
     "execution_count": 66,
     "metadata": {},
     "output_type": "execute_result"
    }
   ],
   "source": [
    "set(data.Time)"
   ]
  },
  {
   "cell_type": "code",
   "execution_count": null,
   "metadata": {
    "collapsed": true
   },
   "outputs": [],
   "source": []
  }
 ],
 "metadata": {
  "kernelspec": {
   "display_name": "Python 2",
   "language": "python",
   "name": "python2"
  },
  "language_info": {
   "codemirror_mode": {
    "name": "ipython",
    "version": 2
   },
   "file_extension": ".py",
   "mimetype": "text/x-python",
   "name": "python",
   "nbconvert_exporter": "python",
   "pygments_lexer": "ipython2",
   "version": "2.7.11"
  }
 },
 "nbformat": 4,
 "nbformat_minor": 0
}
