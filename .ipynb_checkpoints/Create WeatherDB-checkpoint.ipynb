{
 "cells": [
  {
   "cell_type": "code",
   "execution_count": 66,
   "metadata": {
    "collapsed": false
   },
   "outputs": [
    {
     "name": "stdout",
     "output_type": "stream",
     "text": [
      "sea_level_pressure REAL, max_gust REAL, max_wind_speed REAL, dew_point REAL, min_temp REAL, mean_temp REAL, station_pressure REAL, mean_wind_speed REAL, visibility REAL, max_temp REAL\n",
      "['sea_level_pressure', 'max_gust', 'max_wind_speed', 'dew_point', 'min_temp', 'mean_temp', 'station_pressure', 'mean_wind_speed', 'visibility', 'max_temp']\n"
     ]
    }
   ],
   "source": [
    "import datetime\n",
    "\n",
    "d = { 'FRSHTT': u'000000',\n",
    " 'USAF': u'102680',\n",
    " 'WBAN': u'99999',\n",
    " 'date': datetime.date(1994, 10, 1),\n",
    " 'dew_point': 43.899999999999999,\n",
    " 'dew_point_count': 23,\n",
    " 'max_gust': 999.89999999999998,\n",
    " 'max_temp': 56.700000000000003,\n",
    " 'max_temp_flag': u' ',\n",
    " 'max_wind_speed': 31.100000000000001,\n",
    " 'mean_temp': 50.399999999999999,\n",
    " 'mean_temp_count': 23,\n",
    " 'mean_wind_speed': 14.300000000000001,\n",
    " 'mean_wind_speed_count': 23,\n",
    " 'min_temp': 41.899999999999999,\n",
    " 'min_temp_flag': u'*',\n",
    " 'precip': 0.0,\n",
    " 'precip_flag': u'G',\n",
    " 'sea_level_pressure': 1018.6,\n",
    " 'sea_level_pressure_count': 23,\n",
    " 'snow_depth': 999.89999999999998,\n",
    " 'station_pressure': 1010.0,\n",
    " 'station_pressure_count': 23,\n",
    " 'visibility': 999.89999999999998,\n",
    " 'visibility_count': 0}\n",
    "d = {'dew_point': 0.0,\n",
    "     'max_temp': 0.0,\n",
    "     'max_wind_speed': 0.0,\n",
    "     'mean_temp': 0.0,\n",
    "     'mean_wind_speed': 0.0,\n",
    "     'min_temp': 0.0, \n",
    "     'visibility': 0.0,\n",
    "     'station_pressure': 0.0,\n",
    "     'sea_level_pressure': 0.0,\n",
    "     'max_gust': 0.0}\n",
    "s = []\n",
    "s2 = []\n",
    "for k, v in d.iteritems():\n",
    "    x = \"\"\n",
    "    t = type(v)\n",
    "    if t == int:\n",
    "        x = \"INTEGER\"\n",
    "    if t == float:\n",
    "        x = \"REAL\"\n",
    "    if t in (str, unicode):\n",
    "        x = \"TEXT\"\n",
    "    if t == datetime.date:\n",
    "        x = \"DATE\"\n",
    "    s2.append(k)\n",
    "    s.append(\"%s %s\" % (k, x))\n",
    "table_fields = \", \".join(s)\n",
    "print table_fields"
   ]
  },
  {
   "cell_type": "code",
   "execution_count": 53,
   "metadata": {
    "collapsed": false
   },
   "outputs": [
    {
     "data": {
      "text/plain": [
       "28"
      ]
     },
     "execution_count": 53,
     "metadata": {},
     "output_type": "execute_result"
    }
   ],
   "source": [
    "len(\"AUBEBUHRCYEZDAENFIFRGMGRHUEIITLGLHLUMTNLPLPOROLOSISPSWUK\") / 2"
   ]
  },
  {
   "cell_type": "code",
   "execution_count": 65,
   "metadata": {
    "collapsed": false
   },
   "outputs": [],
   "source": [
    "import pandas as pd\n",
    "from pandas.io import sql\n",
    "import psycopg2\n",
    "import numpy as np\n",
    "\n",
    "_username = 'postgres'\n",
    "_password = '123456'\n",
    "_hostname = 'localhost'\n",
    "_database = 'WeatherDB2' ##!!!!\n",
    "\n",
    "       \n",
    "with psycopg2.connect(host=_hostname, user=_username, password=_password, database=_database) as conn:\n",
    "    with conn.cursor() as cur:\n",
    "        cur.execute(\"CREATE TABLE countries (id SERIAL NOT NULL PRIMARY KEY, name TEXT)\");\n",
    "\n",
    "        cur.execute(\"CREATE TABLE data (id SERIAL NOT NULL PRIMARY KEY, \\\n",
    "        date DATE, \" + \n",
    "        table_fields + \n",
    "        \", country_id INTEGER NOT NULL, \\\n",
    "        FOREIGN KEY (country_id) REFERENCES countries(id))\");\n",
    "        \n",
    "        conn.commit()"
   ]
  },
  {
   "cell_type": "code",
   "execution_count": 49,
   "metadata": {
    "collapsed": false
   },
   "outputs": [
    {
     "data": {
      "text/plain": [
       "'snow_depth, mean_temp_count, USAF, max_gust, min_temp_flag, dew_point_count, min_temp, precip_flag, mean_wind_speed, visibility_count, max_temp_flag, sea_level_pressure, mean_wind_speed_count, FRSHTT, visibility, max_wind_speed, date, sea_level_pressure_count, dew_point, mean_temp, station_pressure_count, precip, WBAN, station_pressure, max_temp'"
      ]
     },
     "execution_count": 49,
     "metadata": {},
     "output_type": "execute_result"
    }
   ],
   "source": [
    "\", \".join(s2)"
   ]
  },
  {
   "cell_type": "code",
   "execution_count": null,
   "metadata": {
    "collapsed": false
   },
   "outputs": [],
   "source": []
  },
  {
   "cell_type": "code",
   "execution_count": null,
   "metadata": {
    "collapsed": true
   },
   "outputs": [],
   "source": []
  },
  {
   "cell_type": "code",
   "execution_count": null,
   "metadata": {
    "collapsed": true
   },
   "outputs": [],
   "source": []
  },
  {
   "cell_type": "code",
   "execution_count": null,
   "metadata": {
    "collapsed": true
   },
   "outputs": [],
   "source": []
  },
  {
   "cell_type": "code",
   "execution_count": null,
   "metadata": {
    "collapsed": true
   },
   "outputs": [],
   "source": []
  },
  {
   "cell_type": "code",
   "execution_count": null,
   "metadata": {
    "collapsed": true
   },
   "outputs": [],
   "source": []
  },
  {
   "cell_type": "code",
   "execution_count": null,
   "metadata": {
    "collapsed": true
   },
   "outputs": [],
   "source": []
  },
  {
   "cell_type": "code",
   "execution_count": null,
   "metadata": {
    "collapsed": true
   },
   "outputs": [],
   "source": []
  },
  {
   "cell_type": "code",
   "execution_count": 45,
   "metadata": {
    "collapsed": false
   },
   "outputs": [
    {
     "name": "stdout",
     "output_type": "stream",
     "text": [
      "28\n",
      "34\n"
     ]
    }
   ],
   "source": [
    "EU_countries = []\n",
    "with open('F:\\\\NOAA\\\\EU.txt') as f:\n",
    "    lines = f.readlines()\n",
    "    for line in lines:\n",
    "        EU_countries.append(line.split('\\t')[0].strip())\n",
    "print len(EU_countries)\n",
    "# EU_countries\n",
    "\n",
    "countries = { }\n",
    "with open('F:\\\\NOAA\\\\ghcnd-countries.txt') as f:\n",
    "    lines = f.readlines()\n",
    "    for line in lines:\n",
    "        line = line.replace(\"\\n\", \"\").strip()\n",
    "        if line == \"\": \n",
    "            continue\n",
    "        countries[line[3:]] = line[:2]\n",
    "        \n",
    "target_countries = []\n",
    "for x in EU_countries:\n",
    "    target_countries.append(countries[x])\n",
    "#@a\n",
    "target_countries += [\"US\", \"KS\", \"JA\", \"CH\", \"TU\", \"RS\"]\n",
    "print len(target_countries)"
   ]
  },
  {
   "cell_type": "code",
   "execution_count": 38,
   "metadata": {
    "collapsed": false
   },
   "outputs": [
    {
     "name": "stdout",
     "output_type": "stream",
     "text": [
      "28\n"
     ]
    }
   ],
   "source": []
  },
  {
   "cell_type": "code",
   "execution_count": 40,
   "metadata": {
    "collapsed": false
   },
   "outputs": [
    {
     "name": "stdout",
     "output_type": "stream",
     "text": [
      "218\n"
     ]
    }
   ],
   "source": [
    "countries = { }\n",
    "with open('F:\\\\NOAA\\\\ghcnd-countries.txt') as f:\n",
    "    lines = f.readlines()\n",
    "    for line in lines:\n",
    "        line = line.replace(\"\\n\", \"\").strip()\n",
    "        if line == \"\": \n",
    "            continue\n",
    "        countries[line[:2]] = line[3:]\n",
    "print len(countries)"
   ]
  },
  {
   "cell_type": "code",
   "execution_count": 41,
   "metadata": {
    "collapsed": false
   },
   "outputs": [
    {
     "name": "stdout",
     "output_type": "stream",
     "text": [
      "Austria\n",
      "Belgium\n",
      "Bulgaria\n",
      "Croatia\n",
      "Cyprus\n",
      "Czech Republic\n",
      "Denmark\n",
      "Estonia\n",
      "Finland\n",
      "France\n",
      "Germany\n",
      "Greece\n",
      "Hungary\n",
      "Ireland\n",
      "Italy\n",
      "Latvia\n",
      "Lithuania\n",
      "Luxembourg\n",
      "Malta\n",
      "Netherlands\n",
      "Poland\n",
      "Portugal\n",
      "Romania\n",
      "Slovakia\n",
      "Slovenia\n",
      "Spain\n",
      "Sweden\n",
      "United Kingdom\n",
      "United States\n",
      "Korea, South\n",
      "Japan\n",
      "China\n",
      "Turkey\n",
      "Russia\n"
     ]
    }
   ],
   "source": [
    "for x in target_countries:\n",
    "    print countries[x]"
   ]
  },
  {
   "cell_type": "code",
   "execution_count": null,
   "metadata": {
    "collapsed": true
   },
   "outputs": [],
   "source": []
  }
 ],
 "metadata": {
  "kernelspec": {
   "display_name": "Python 2",
   "language": "python",
   "name": "python2"
  },
  "language_info": {
   "codemirror_mode": {
    "name": "ipython",
    "version": 2
   },
   "file_extension": ".py",
   "mimetype": "text/x-python",
   "name": "python",
   "nbconvert_exporter": "python",
   "pygments_lexer": "ipython2",
   "version": "2.7.11"
  }
 },
 "nbformat": 4,
 "nbformat_minor": 0
}
