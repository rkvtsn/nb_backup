{
 "cells": [
  {
   "cell_type": "code",
   "execution_count": 1,
   "metadata": {
    "collapsed": false
   },
   "outputs": [],
   "source": [
    "import ulmo\n",
    "import pandas as pd\n",
    "import datetime\n",
    "import future, sys\n",
    "import psycopg2\n",
    "\n",
    "\n",
    "_username = 'postgres'\n",
    "_password = '123456'\n",
    "_hostname = 'localhost'\n",
    "_database = 'WeatherDB2' #### !!!!\n"
   ]
  },
  {
   "cell_type": "code",
   "execution_count": 10,
   "metadata": {
    "collapsed": false
   },
   "outputs": [
    {
     "name": "stdout",
     "output_type": "stream",
     "text": [
      "33\n"
     ]
    }
   ],
   "source": [
    "EU_countries = []\n",
    "with open('F:\\\\NOAA\\\\EU.txt') as f:\n",
    "    lines = f.readlines()\n",
    "    for line in lines:\n",
    "        EU_countries.append(line.split('\\t')[0].strip())\n",
    "# EU_countries\n",
    "\n",
    "countries = { }\n",
    "with open('F:\\\\NOAA\\\\ghcnd-countries.txt') as f:\n",
    "    lines = f.readlines()\n",
    "    for line in lines:\n",
    "        line = line.replace(\"\\n\", \"\").strip()\n",
    "        if line == \"\": \n",
    "            continue\n",
    "        countries[line[3:]] = line[:2]\n",
    "target_countries = []\n",
    "for x in EU_countries:\n",
    "    target_countries.append(countries[x])\n",
    "#@a\n",
    "\n",
    "target_countries += [ \"KS\", \"JA\", \"CH\", \"TU\", \"RS\"] #\"US\",\n",
    "#target_countries = [ \"JA\" ]\n",
    "print len(target_countries)"
   ]
  },
  {
   "cell_type": "code",
   "execution_count": 11,
   "metadata": {
    "collapsed": false
   },
   "outputs": [],
   "source": [
    "def sum_dicts(d1, d2):\n",
    "    d = { }\n",
    "    for k in d1:\n",
    "        if k == 'count':\n",
    "            continue\n",
    "        if k.startswith('max'):\n",
    "            d[k] = max(d1[k], d2[k])\n",
    "        elif k.startswith('min'):\n",
    "            d[k] = min(d1[k], d2[k])\n",
    "        else:\n",
    "            d[k] = d1[k] + d2[k]\n",
    "    if 'count' not in d:\n",
    "        d['count'] = 0\n",
    "    d['count'] += 1\n",
    "    return d\n",
    "\n",
    "def find_avg(d):\n",
    "    for k in d:\n",
    "        if k == 'count':\n",
    "            continue\n",
    "        if not k.startswith('max') and not k.startswith('min'):\n",
    "            d[k] = float(d[k]) / d['count']\n",
    "    return d        \n",
    "\n",
    "def new_result():\n",
    "    return {'dew_point': 0.0,\n",
    "     'max_temp': -1000000.0,\n",
    "     'max_wind_speed': -1000000.0,\n",
    "     'mean_temp': 0.0,\n",
    "     'mean_wind_speed': 0.0,\n",
    "     'min_temp': 1000000.0, \n",
    "     'visibility': 0.0,\n",
    "     'station_pressure': 0.0,\n",
    "     'sea_level_pressure': 0.0,\n",
    "     'max_gust': -1000000.0}"
   ]
  },
  {
   "cell_type": "code",
   "execution_count": 13,
   "metadata": {
    "collapsed": false
   },
   "outputs": [
    {
     "name": "stdout",
     "output_type": "stream",
     "text": [
      "AU_downloaded AU_saved BE_downloaded BE_saved BU_downloaded BU_saved HR_downloaded HR_saved CY_downloaded CY_saved EZ_downloaded EZ_saved DA_downloaded DA_saved EN_downloaded EN_saved FI_downloaded FI_saved FR_downloaded FR_saved GM_downloaded GM_saved GR_downloaded GR_saved "
     ]
    },
    {
     "ename": "ReadError",
     "evalue": "unexpected end of data",
     "output_type": "error",
     "traceback": [
      "\u001b[1;31m---------------------------------------------------------------------------\u001b[0m",
      "\u001b[1;31mReadError\u001b[0m                                 Traceback (most recent call last)",
      "\u001b[1;32m<ipython-input-13-eb647ffa7c4a>\u001b[0m in \u001b[0;36m<module>\u001b[1;34m()\u001b[0m\n\u001b[0;32m     27\u001b[0m \u001b[1;31m#             for s in stations:\u001b[0m\u001b[1;33m\u001b[0m\u001b[1;33m\u001b[0m\u001b[0m\n\u001b[0;32m     28\u001b[0m             \u001b[1;32mtry\u001b[0m\u001b[1;33m:\u001b[0m\u001b[1;33m\u001b[0m\u001b[0m\n\u001b[1;32m---> 29\u001b[1;33m                 \u001b[0md\u001b[0m \u001b[1;33m=\u001b[0m \u001b[0mulmo\u001b[0m\u001b[1;33m.\u001b[0m\u001b[0mncdc\u001b[0m\u001b[1;33m.\u001b[0m\u001b[0mgsod\u001b[0m\u001b[1;33m.\u001b[0m\u001b[0mget_data\u001b[0m\u001b[1;33m(\u001b[0m\u001b[0mstations\u001b[0m\u001b[1;33m.\u001b[0m\u001b[0mkeys\u001b[0m\u001b[1;33m(\u001b[0m\u001b[1;33m)\u001b[0m\u001b[1;33m)\u001b[0m\u001b[1;33m\u001b[0m\u001b[0m\n\u001b[0m\u001b[0;32m     30\u001b[0m             \u001b[1;32mexcept\u001b[0m \u001b[0mKeyError\u001b[0m\u001b[1;33m,\u001b[0m \u001b[0me\u001b[0m\u001b[1;33m:\u001b[0m\u001b[1;33m\u001b[0m\u001b[0m\n\u001b[0;32m     31\u001b[0m                 \u001b[0mmsg\u001b[0m \u001b[1;33m=\u001b[0m \u001b[0mcountry\u001b[0m \u001b[1;33m+\u001b[0m \u001b[1;34m\",\"\u001b[0m \u001b[1;33m+\u001b[0m \u001b[0mstr\u001b[0m\u001b[1;33m(\u001b[0m\u001b[0me\u001b[0m\u001b[1;33m)\u001b[0m\u001b[1;33m\u001b[0m\u001b[0m\n",
      "\u001b[1;32mD:\\Anaconda\\lib\\site-packages\\ulmo\\ncdc\\gsod\\core.pyc\u001b[0m in \u001b[0;36mget_data\u001b[1;34m(station_codes, start, end, parameters)\u001b[0m\n\u001b[0;32m     76\u001b[0m             stations_in_file = [\n\u001b[0;32m     77\u001b[0m                 \u001b[0mname\u001b[0m\u001b[1;33m.\u001b[0m\u001b[0msplit\u001b[0m\u001b[1;33m(\u001b[0m\u001b[1;34m'./'\u001b[0m\u001b[1;33m)\u001b[0m\u001b[1;33m[\u001b[0m\u001b[1;33m-\u001b[0m\u001b[1;36m1\u001b[0m\u001b[1;33m]\u001b[0m\u001b[1;33m.\u001b[0m\u001b[0mrsplit\u001b[0m\u001b[1;33m(\u001b[0m\u001b[1;34m'-'\u001b[0m\u001b[1;33m,\u001b[0m \u001b[1;36m1\u001b[0m\u001b[1;33m)\u001b[0m\u001b[1;33m[\u001b[0m\u001b[1;36m0\u001b[0m\u001b[1;33m]\u001b[0m\u001b[1;33m\u001b[0m\u001b[0m\n\u001b[1;32m---> 78\u001b[1;33m                 for name in gsod_tar.getnames() if len(name) > 1]\n\u001b[0m\u001b[0;32m     79\u001b[0m             \u001b[1;32mif\u001b[0m \u001b[0mstation_codes\u001b[0m\u001b[1;33m:\u001b[0m\u001b[1;33m\u001b[0m\u001b[0m\n\u001b[0;32m     80\u001b[0m                 \u001b[0mstations\u001b[0m \u001b[1;33m=\u001b[0m \u001b[0mlist\u001b[0m\u001b[1;33m(\u001b[0m\u001b[0mset\u001b[0m\u001b[1;33m(\u001b[0m\u001b[0mstation_codes\u001b[0m\u001b[1;33m)\u001b[0m \u001b[1;33m&\u001b[0m \u001b[0mset\u001b[0m\u001b[1;33m(\u001b[0m\u001b[0mstations_in_file\u001b[0m\u001b[1;33m)\u001b[0m\u001b[1;33m)\u001b[0m\u001b[1;33m\u001b[0m\u001b[0m\n",
      "\u001b[1;32mD:\\Anaconda\\lib\\tarfile.pyc\u001b[0m in \u001b[0;36mgetnames\u001b[1;34m(self)\u001b[0m\n\u001b[0;32m   1842\u001b[0m            \u001b[0mthe\u001b[0m \u001b[0msame\u001b[0m \u001b[0morder\u001b[0m \u001b[1;32mas\u001b[0m \u001b[0mthe\u001b[0m \u001b[0mlist\u001b[0m \u001b[0mreturned\u001b[0m \u001b[0mby\u001b[0m \u001b[0mgetmembers\u001b[0m\u001b[1;33m(\u001b[0m\u001b[1;33m)\u001b[0m\u001b[1;33m.\u001b[0m\u001b[1;33m\u001b[0m\u001b[0m\n\u001b[0;32m   1843\u001b[0m         \"\"\"\n\u001b[1;32m-> 1844\u001b[1;33m         \u001b[1;32mreturn\u001b[0m \u001b[1;33m[\u001b[0m\u001b[0mtarinfo\u001b[0m\u001b[1;33m.\u001b[0m\u001b[0mname\u001b[0m \u001b[1;32mfor\u001b[0m \u001b[0mtarinfo\u001b[0m \u001b[1;32min\u001b[0m \u001b[0mself\u001b[0m\u001b[1;33m.\u001b[0m\u001b[0mgetmembers\u001b[0m\u001b[1;33m(\u001b[0m\u001b[1;33m)\u001b[0m\u001b[1;33m]\u001b[0m\u001b[1;33m\u001b[0m\u001b[0m\n\u001b[0m\u001b[0;32m   1845\u001b[0m \u001b[1;33m\u001b[0m\u001b[0m\n\u001b[0;32m   1846\u001b[0m     \u001b[1;32mdef\u001b[0m \u001b[0mgettarinfo\u001b[0m\u001b[1;33m(\u001b[0m\u001b[0mself\u001b[0m\u001b[1;33m,\u001b[0m \u001b[0mname\u001b[0m\u001b[1;33m=\u001b[0m\u001b[0mNone\u001b[0m\u001b[1;33m,\u001b[0m \u001b[0marcname\u001b[0m\u001b[1;33m=\u001b[0m\u001b[0mNone\u001b[0m\u001b[1;33m,\u001b[0m \u001b[0mfileobj\u001b[0m\u001b[1;33m=\u001b[0m\u001b[0mNone\u001b[0m\u001b[1;33m)\u001b[0m\u001b[1;33m:\u001b[0m\u001b[1;33m\u001b[0m\u001b[0m\n",
      "\u001b[1;32mD:\\Anaconda\\lib\\tarfile.pyc\u001b[0m in \u001b[0;36mgetmembers\u001b[1;34m(self)\u001b[0m\n\u001b[0;32m   1834\u001b[0m         \u001b[0mself\u001b[0m\u001b[1;33m.\u001b[0m\u001b[0m_check\u001b[0m\u001b[1;33m(\u001b[0m\u001b[1;33m)\u001b[0m\u001b[1;33m\u001b[0m\u001b[0m\n\u001b[0;32m   1835\u001b[0m         \u001b[1;32mif\u001b[0m \u001b[1;32mnot\u001b[0m \u001b[0mself\u001b[0m\u001b[1;33m.\u001b[0m\u001b[0m_loaded\u001b[0m\u001b[1;33m:\u001b[0m    \u001b[1;31m# if we want to obtain a list of\u001b[0m\u001b[1;33m\u001b[0m\u001b[0m\n\u001b[1;32m-> 1836\u001b[1;33m             \u001b[0mself\u001b[0m\u001b[1;33m.\u001b[0m\u001b[0m_load\u001b[0m\u001b[1;33m(\u001b[0m\u001b[1;33m)\u001b[0m        \u001b[1;31m# all members, we first have to\u001b[0m\u001b[1;33m\u001b[0m\u001b[0m\n\u001b[0m\u001b[0;32m   1837\u001b[0m                                 \u001b[1;31m# scan the whole archive.\u001b[0m\u001b[1;33m\u001b[0m\u001b[1;33m\u001b[0m\u001b[0m\n\u001b[0;32m   1838\u001b[0m         \u001b[1;32mreturn\u001b[0m \u001b[0mself\u001b[0m\u001b[1;33m.\u001b[0m\u001b[0mmembers\u001b[0m\u001b[1;33m\u001b[0m\u001b[0m\n",
      "\u001b[1;32mD:\\Anaconda\\lib\\tarfile.pyc\u001b[0m in \u001b[0;36m_load\u001b[1;34m(self)\u001b[0m\n\u001b[0;32m   2414\u001b[0m         \"\"\"\n\u001b[0;32m   2415\u001b[0m         \u001b[1;32mwhile\u001b[0m \u001b[0mTrue\u001b[0m\u001b[1;33m:\u001b[0m\u001b[1;33m\u001b[0m\u001b[0m\n\u001b[1;32m-> 2416\u001b[1;33m             \u001b[0mtarinfo\u001b[0m \u001b[1;33m=\u001b[0m \u001b[0mself\u001b[0m\u001b[1;33m.\u001b[0m\u001b[0mnext\u001b[0m\u001b[1;33m(\u001b[0m\u001b[1;33m)\u001b[0m\u001b[1;33m\u001b[0m\u001b[0m\n\u001b[0m\u001b[0;32m   2417\u001b[0m             \u001b[1;32mif\u001b[0m \u001b[0mtarinfo\u001b[0m \u001b[1;32mis\u001b[0m \u001b[0mNone\u001b[0m\u001b[1;33m:\u001b[0m\u001b[1;33m\u001b[0m\u001b[0m\n\u001b[0;32m   2418\u001b[0m                 \u001b[1;32mbreak\u001b[0m\u001b[1;33m\u001b[0m\u001b[0m\n",
      "\u001b[1;32mD:\\Anaconda\\lib\\tarfile.pyc\u001b[0m in \u001b[0;36mnext\u001b[1;34m(self)\u001b[0m\n\u001b[0;32m   2347\u001b[0m             \u001b[0mself\u001b[0m\u001b[1;33m.\u001b[0m\u001b[0mfileobj\u001b[0m\u001b[1;33m.\u001b[0m\u001b[0mseek\u001b[0m\u001b[1;33m(\u001b[0m\u001b[0mself\u001b[0m\u001b[1;33m.\u001b[0m\u001b[0moffset\u001b[0m \u001b[1;33m-\u001b[0m \u001b[1;36m1\u001b[0m\u001b[1;33m)\u001b[0m\u001b[1;33m\u001b[0m\u001b[0m\n\u001b[0;32m   2348\u001b[0m             \u001b[1;32mif\u001b[0m \u001b[1;32mnot\u001b[0m \u001b[0mself\u001b[0m\u001b[1;33m.\u001b[0m\u001b[0mfileobj\u001b[0m\u001b[1;33m.\u001b[0m\u001b[0mread\u001b[0m\u001b[1;33m(\u001b[0m\u001b[1;36m1\u001b[0m\u001b[1;33m)\u001b[0m\u001b[1;33m:\u001b[0m\u001b[1;33m\u001b[0m\u001b[0m\n\u001b[1;32m-> 2349\u001b[1;33m                 \u001b[1;32mraise\u001b[0m \u001b[0mReadError\u001b[0m\u001b[1;33m(\u001b[0m\u001b[1;34m\"unexpected end of data\"\u001b[0m\u001b[1;33m)\u001b[0m\u001b[1;33m\u001b[0m\u001b[0m\n\u001b[0m\u001b[0;32m   2350\u001b[0m \u001b[1;33m\u001b[0m\u001b[0m\n\u001b[0;32m   2351\u001b[0m         \u001b[1;31m# Read the next block.\u001b[0m\u001b[1;33m\u001b[0m\u001b[1;33m\u001b[0m\u001b[0m\n",
      "\u001b[1;31mReadError\u001b[0m: unexpected end of data"
     ]
    }
   ],
   "source": [
    "bad_countries = []\n",
    "bad_stations = []\n",
    "\n",
    "stations = [ ]\n",
    "d = { }\n",
    "skiped = 0\n",
    "with psycopg2.connect(host=_hostname, user=_username, password=_password, database=_database) as conn:\n",
    "    with conn.cursor() as cur:\n",
    "        #add country\n",
    "        for country in target_countries:\n",
    "            cur.execute(\"SELECT id FROM countries WHERE name=%s\", [country])\n",
    "            if cur.fetchone() == None:\n",
    "                cur.execute(\"INSERT INTO countries (name) VALUES (%s) RETURNING id\", [country])\n",
    "                country_id = cur.fetchone()[0]\n",
    "            else:\n",
    "                continue\n",
    "                \n",
    "            try:\n",
    "                stations = ulmo.ncdc.gsod.get_stations(country=country)\n",
    "            except:\n",
    "                bad_countries.append(country)\n",
    "                sys.stdout.write(\"BaD country!\")\n",
    "                sys.stdout.flush()\n",
    "            if len(stations) == 0:\n",
    "                continue\n",
    "                \n",
    "            results = { }\n",
    "    \n",
    "#             for s in stations:\n",
    "            try:\n",
    "                d = ulmo.ncdc.gsod.get_data(stations.keys())\n",
    "            except Exception, e:\n",
    "                msg = country + \",\" + str(e)\n",
    "                bad_stations.append(msg)\n",
    "                sys.stdout.write(msg)\n",
    "                sys.stdout.flush()\n",
    "\n",
    "            for station, data in d.iteritems():\n",
    "                if data == None:\n",
    "                    skiped += 1\n",
    "                    continue\n",
    "\n",
    "                for row in data:\n",
    "                    if row['date'] not in results:\n",
    "                        results[row['date']] = new_result()\n",
    "                    results[row['date']] = sum_dicts(results[row['date']], row)\n",
    "\n",
    "            sys.stdout.write(country + \"_downloaded \")\n",
    "            sys.stdout.flush()\n",
    "\n",
    "            for date in results:\n",
    "                results[date] = find_avg(results[date])\n",
    "                row = results[date]\n",
    "                cur.execute(\"INSERT INTO data (\"+\n",
    "                                \"sea_level_pressure, max_gust, max_wind_speed, dew_point, \"+\n",
    "                                \"min_temp, mean_temp, station_pressure, mean_wind_speed, \"+\n",
    "                                \"visibility, max_temp\"+\n",
    "                                \", country_id) \\\n",
    "                                VALUES(%s, %s, %s, %s,\" +\n",
    "                                      \"%s, %s, %s, %s,\" +\n",
    "                                      \"%s, %s,\" +\n",
    "                                      \"%s)\", \n",
    "                                [row['sea_level_pressure'], row['max_gust'], row['max_wind_speed'], row['dew_point'], \n",
    "                                 row['min_temp'], row['mean_temp'], row['station_pressure'], row['mean_wind_speed'], \n",
    "                                 row['visibility'], row['max_temp'],\n",
    "                                 country_id])\n",
    "            conn.commit()\n",
    "            sys.stdout.write(country + \"_saved \")\n",
    "            sys.stdout.flush()\n",
    "            del results"
   ]
  },
  {
   "cell_type": "code",
   "execution_count": null,
   "metadata": {
    "collapsed": false
   },
   "outputs": [],
   "source": [
    "print len(data)"
   ]
  },
  {
   "cell_type": "code",
   "execution_count": null,
   "metadata": {
    "collapsed": false
   },
   "outputs": [],
   "source": [
    "', '.join(['%s'] * 25)"
   ]
  },
  {
   "cell_type": "code",
   "execution_count": null,
   "metadata": {
    "collapsed": false
   },
   "outputs": [],
   "source": []
  },
  {
   "cell_type": "code",
   "execution_count": null,
   "metadata": {
    "collapsed": false
   },
   "outputs": [],
   "source": []
  },
  {
   "cell_type": "code",
   "execution_count": null,
   "metadata": {
    "collapsed": false
   },
   "outputs": [],
   "source": [
    "\", \".join(['snow_depth', 'mean_temp_count', 'USAF', 'max_gust', 'min_temp_flag', 'dew_point_count', 'min_temp', 'precip_flag', 'mean_wind_speed', 'visibility_count', 'max_temp_flag', 'sea_level_pressure', 'mean_wind_speed_count', 'FRSHTT', 'visibility', 'max_wind_speed', 'date', 'sea_level_pressure_count', 'dew_point', 'mean_temp', 'station_pressure_count', 'precip', 'WBAN', 'station_pressure', 'max_temp', 'station_id'])"
   ]
  },
  {
   "cell_type": "code",
   "execution_count": null,
   "metadata": {
    "collapsed": false
   },
   "outputs": [],
   "source": []
  },
  {
   "cell_type": "code",
   "execution_count": null,
   "metadata": {
    "collapsed": false
   },
   "outputs": [],
   "source": [
    "country = \"GM\"\n",
    "stations = ulmo.ncdc.gsod.get_stations(country=country)"
   ]
  },
  {
   "cell_type": "code",
   "execution_count": null,
   "metadata": {
    "collapsed": false
   },
   "outputs": [],
   "source": [
    "d = ulmo.ncdc.gsod.get_data(stations.keys()[:2])"
   ]
  },
  {
   "cell_type": "code",
   "execution_count": null,
   "metadata": {
    "collapsed": false
   },
   "outputs": [],
   "source": [
    "for station, data in d.iteritems():\n",
    "    print station\n",
    "    print type(data)"
   ]
  },
  {
   "cell_type": "code",
   "execution_count": null,
   "metadata": {
    "collapsed": false
   },
   "outputs": [],
   "source": [
    "# for x in table_fields.split(\", \"):\n",
    "#     print row[]\n",
    "s = ', '.join(['%s'] * len(table_fields.split(\", \"))) + \", %s\"\n",
    "s = \"( \" + s + \" )\"\n",
    "params = table_fields + \", station_id\"\n",
    "p = params.split(', ')\n",
    "# print params\n",
    "print p"
   ]
  },
  {
   "cell_type": "code",
   "execution_count": null,
   "metadata": {
    "collapsed": false
   },
   "outputs": [],
   "source": [
    "(d[d.keys()[0]])[0]"
   ]
  },
  {
   "cell_type": "code",
   "execution_count": null,
   "metadata": {
    "collapsed": true
   },
   "outputs": [],
   "source": [
    "# class Country:\n",
    "#     def __init__(self, name, fullname):\n",
    "#         self.name = name\n",
    "#         self.fullname = fullname\n",
    "#         self.day = Day()\n",
    "\n",
    "# class Day:\n",
    "#     def __init__(self, date):\n",
    "#         self.weather = Weather()\n",
    "    \n",
    "# class Weather:\n",
    "#     def __init__(self, attributes):\n",
    "#         self.attributes = attributes"
   ]
  }
 ],
 "metadata": {
  "kernelspec": {
   "display_name": "Python 2",
   "language": "python",
   "name": "python2"
  },
  "language_info": {
   "codemirror_mode": {
    "name": "ipython",
    "version": 2
   },
   "file_extension": ".py",
   "mimetype": "text/x-python",
   "name": "python",
   "nbconvert_exporter": "python",
   "pygments_lexer": "ipython2",
   "version": "2.7.11"
  }
 },
 "nbformat": 4,
 "nbformat_minor": 0
}
