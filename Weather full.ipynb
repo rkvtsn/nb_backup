{
 "cells": [
  {
   "cell_type": "code",
   "execution_count": 5,
   "metadata": {
    "collapsed": false
   },
   "outputs": [],
   "source": [
    "import ulmo\n",
    "import pandas as pd\n",
    "import datetime\n",
    "import future, sys\n",
    "import psycopg2\n",
    "\n",
    "\n",
    "_username = 'postgres'\n",
    "_password = '123456'\n",
    "_hostname = 'localhost'\n",
    "_database = 'WeatherDB'\n"
   ]
  },
  {
   "cell_type": "code",
   "execution_count": 6,
   "metadata": {
    "collapsed": false
   },
   "outputs": [
    {
     "name": "stdout",
     "output_type": "stream",
     "text": [
      "1\n"
     ]
    }
   ],
   "source": [
    "EU_countries = []\n",
    "with open('F:\\\\NOAA\\\\EU.txt') as f:\n",
    "    lines = f.readlines()\n",
    "    for line in lines:\n",
    "        EU_countries.append(line.split('\\t')[0].strip())\n",
    "# EU_countries\n",
    "\n",
    "countries = { }\n",
    "with open('F:\\\\NOAA\\\\ghcnd-countries.txt') as f:\n",
    "    lines = f.readlines()\n",
    "    for line in lines:\n",
    "        line = line.replace(\"\\n\", \"\").strip()\n",
    "        if line == \"\": \n",
    "            continue\n",
    "        countries[line[3:]] = line[:2]\n",
    "target_countries = []\n",
    "for x in EU_countries:\n",
    "    target_countries.append(countries[x])\n",
    "#@a\n",
    "\n",
    "target_countries = [\"US\"]#[\"KS\", \"JA\", \"CH\", \"TU\"] #\"US\", , \"RS\"\n",
    "#target_countries = [ \"JA\" ]\n",
    "print len(target_countries)"
   ]
  },
  {
   "cell_type": "code",
   "execution_count": null,
   "metadata": {
    "collapsed": false
   },
   "outputs": [],
   "source": []
  },
  {
   "cell_type": "code",
   "execution_count": null,
   "metadata": {
    "collapsed": false
   },
   "outputs": [],
   "source": [
    "bad_countries = []\n",
    "bad_stations = []\n",
    "\n",
    "_username = 'postgres'\n",
    "_password = '123456'\n",
    "_hostname = 'localhost'\n",
    "_database = 'WeatherDB'\n",
    "\n",
    "stations = [ ]\n",
    "d = { }\n",
    "skiped = 0\n",
    "with psycopg2.connect(host=_hostname, user=_username, password=_password, database=_database) as conn:\n",
    "    with conn.cursor() as cur:\n",
    "        #add country\n",
    "        for country in target_countries:\n",
    "            cur.execute(\"INSERT INTO countries (name) VALUES (%s) RETURNING id\", [country])\n",
    "            country_id = cur.fetchone()[0]\n",
    "            \n",
    "            try:\n",
    "                stations = ulmo.ncdc.gsod.get_stations(country=country)\n",
    "            except:\n",
    "                bad_countries.append(country)\n",
    "                sys.stdout.write(\"BaD country!\")\n",
    "                sys.stdout.flush()\n",
    "            if len(stations) == 0:\n",
    "                continue\n",
    "            \n",
    "                        \n",
    "            for station_key in stations:\n",
    "                try:\n",
    "                    d = ulmo.ncdc.gsod.get_data(station_key)\n",
    "                except Exception, e:\n",
    "                    msg = country + \",\" + str(e)\n",
    "                    bad_stations.append(msg)\n",
    "                    sys.stdout.write(msg)\n",
    "                    sys.stdout.flush()\n",
    "\n",
    "                results = { }\n",
    "\n",
    "                for station, data in d.iteritems():\n",
    "                    if data == None:\n",
    "                        skiped += 1\n",
    "                        continue\n",
    "                    #add station\n",
    "                    cur.execute(\"INSERT INTO stations (name, country_id) VALUES (%s, %s) RETURNING id\", \n",
    "                                (station, country_id))\n",
    "                    station_id = cur.fetchone()[0]\n",
    "                    for row in data:\n",
    "                        cur.execute(\"INSERT INTO data (\"+\n",
    "                                    \"snow_depth, mean_temp_count, USAF, max_gust\"+\n",
    "                                    \", min_temp_flag, dew_point_count, min_temp, precip_flag\"+\n",
    "                                    \", mean_wind_speed, visibility_count, max_temp_flag, sea_level_pressure\"+\n",
    "                                    \", mean_wind_speed_count, FRSHTT, visibility, max_wind_speed\"+\n",
    "                                    \",date, sea_level_pressure_count, dew_point, mean_temp, station_pressure_count\"+\n",
    "                                    \",precip, WBAN, station_pressure, max_temp\"+\n",
    "                                    \", station_id) \\\n",
    "                                    VALUES(%s, %s, %s, %s,\" +\n",
    "                                    \"%s, %s, %s, %s,\" +\n",
    "                                    \"%s, %s, %s, %s,\" +\n",
    "                                    \"%s, %s, %s, %s,\" +\n",
    "                                    \"%s, %s, %s, %s,\" +\n",
    "                                    \"%s, %s, %s, %s, %s,%s)\", \n",
    "                                    [row['snow_depth'],row['mean_temp_count'],row['USAF'],row['max_gust'],\n",
    "                                     row['min_temp_flag'],row['dew_point_count'],row['min_temp'],row['precip_flag'],\n",
    "                                     row['mean_wind_speed'],row['visibility_count'],row['max_temp_flag'],\n",
    "                                     row['sea_level_pressure'],row['mean_wind_speed_count'],row['FRSHTT'],\n",
    "                                     row['visibility'],row['max_wind_speed'],row['date'],row['sea_level_pressure_count'],\n",
    "                                     row['dew_point'],row['mean_temp'],row['station_pressure_count'],row['precip'],\n",
    "                                     row['WBAN'],row['station_pressure'],row['max_temp'],station_id])\n",
    "            conn.commit()\n",
    "            sys.stdout.write(country)\n",
    "            sys.stdout.flush()"
   ]
  },
  {
   "cell_type": "code",
   "execution_count": null,
   "metadata": {
    "collapsed": false
   },
   "outputs": [],
   "source": [
    "print len(data)"
   ]
  },
  {
   "cell_type": "code",
   "execution_count": null,
   "metadata": {
    "collapsed": false
   },
   "outputs": [],
   "source": [
    "', '.join(['%s'] * 25)"
   ]
  },
  {
   "cell_type": "code",
   "execution_count": null,
   "metadata": {
    "collapsed": false
   },
   "outputs": [],
   "source": []
  },
  {
   "cell_type": "code",
   "execution_count": null,
   "metadata": {
    "collapsed": false
   },
   "outputs": [],
   "source": []
  },
  {
   "cell_type": "code",
   "execution_count": null,
   "metadata": {
    "collapsed": false
   },
   "outputs": [],
   "source": [
    "\", \".join(['snow_depth', 'mean_temp_count', 'USAF', 'max_gust', 'min_temp_flag', 'dew_point_count', 'min_temp', 'precip_flag', 'mean_wind_speed', 'visibility_count', 'max_temp_flag', 'sea_level_pressure', 'mean_wind_speed_count', 'FRSHTT', 'visibility', 'max_wind_speed', 'date', 'sea_level_pressure_count', 'dew_point', 'mean_temp', 'station_pressure_count', 'precip', 'WBAN', 'station_pressure', 'max_temp', 'station_id'])"
   ]
  },
  {
   "cell_type": "code",
   "execution_count": null,
   "metadata": {
    "collapsed": false
   },
   "outputs": [],
   "source": []
  },
  {
   "cell_type": "code",
   "execution_count": null,
   "metadata": {
    "collapsed": false
   },
   "outputs": [],
   "source": [
    "country = \"GM\"\n",
    "stations = ulmo.ncdc.gsod.get_stations(country=country)"
   ]
  },
  {
   "cell_type": "code",
   "execution_count": null,
   "metadata": {
    "collapsed": false
   },
   "outputs": [],
   "source": [
    "d = ulmo.ncdc.gsod.get_data(stations.keys()[:2])"
   ]
  },
  {
   "cell_type": "code",
   "execution_count": null,
   "metadata": {
    "collapsed": false
   },
   "outputs": [],
   "source": [
    "for station, data in d.iteritems():\n",
    "    print station\n",
    "    print type(data)"
   ]
  },
  {
   "cell_type": "code",
   "execution_count": null,
   "metadata": {
    "collapsed": false
   },
   "outputs": [],
   "source": [
    "# for x in table_fields.split(\", \"):\n",
    "#     print row[]\n",
    "s = ', '.join(['%s'] * len(table_fields.split(\", \"))) + \", %s\"\n",
    "s = \"( \" + s + \" )\"\n",
    "params = table_fields + \", station_id\"\n",
    "p = params.split(', ')\n",
    "# print params\n",
    "print p"
   ]
  },
  {
   "cell_type": "code",
   "execution_count": null,
   "metadata": {
    "collapsed": false
   },
   "outputs": [],
   "source": [
    "(d[d.keys()[0]])[0]"
   ]
  },
  {
   "cell_type": "code",
   "execution_count": null,
   "metadata": {
    "collapsed": true
   },
   "outputs": [],
   "source": [
    "# class Country:\n",
    "#     def __init__(self, name, fullname):\n",
    "#         self.name = name\n",
    "#         self.fullname = fullname\n",
    "#         self.day = Day()\n",
    "\n",
    "# class Day:\n",
    "#     def __init__(self, date):\n",
    "#         self.weather = Weather()\n",
    "    \n",
    "# class Weather:\n",
    "#     def __init__(self, attributes):\n",
    "#         self.attributes = attributes"
   ]
  }
 ],
 "metadata": {
  "kernelspec": {
   "display_name": "Python 2",
   "language": "python",
   "name": "python2"
  },
  "language_info": {
   "codemirror_mode": {
    "name": "ipython",
    "version": 2
   },
   "file_extension": ".py",
   "mimetype": "text/x-python",
   "name": "python",
   "nbconvert_exporter": "python",
   "pygments_lexer": "ipython2",
   "version": "2.7.11+"
  }
 },
 "nbformat": 4,
 "nbformat_minor": 0
}
